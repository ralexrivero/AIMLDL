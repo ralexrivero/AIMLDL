{
  "nbformat": 4,
  "nbformat_minor": 0,
  "metadata": {
    "colab": {
      "name": "0x00-00-HelloWorld.ipynb",
      "provenance": [],
      "collapsed_sections": [],
      "authorship_tag": "ABX9TyM550h96Zj7XfSHgFhfjNNz",
      "include_colab_link": true
    },
    "kernelspec": {
      "name": "python3",
      "display_name": "Python 3"
    },
    "language_info": {
      "name": "python"
    }
  },
  "cells": [
    {
      "cell_type": "markdown",
      "metadata": {
        "id": "view-in-github",
        "colab_type": "text"
      },
      "source": [
        "<a href=\"https://colab.research.google.com/github/ralexrivero/AIMLDL/blob/main/0x00_00_HelloWorld.ipynb\" target=\"_parent\"><img src=\"https://colab.research.google.com/assets/colab-badge.svg\" alt=\"Open In Colab\"/></a>"
      ]
    },
    {
      "cell_type": "markdown",
      "metadata": {
        "id": "9lHd2eO5c4o8"
      },
      "source": [
        "**Relationship between two numbers**\n",
        "The neural network will learns the relationship between two numbers, you already know the relationship:\n",
        "float hw_function(float x){\n",
        "    float y = (2 * x) - 1;\n",
        "    return y;\n",
        "}\n",
        "\n",
        "Train the neural network requieres data. Feeding Xs and Ys, it should be able to figure out the relationship between them."
      ]
    },
    {
      "cell_type": "markdown",
      "metadata": {
        "id": "ShpeRmNhdufv"
      },
      "source": [
        "**Imports**\n",
        "Import TensorFlow and call it for ease of use.\n",
        "Import the numpy library for represent data as lists easily and quickly.\n",
        "Finally import keras, the framwork for defining a neural networ as a set of Sequential layers."
      ]
    },
    {
      "cell_type": "code",
      "metadata": {
        "id": "LPQnAjMwceBu"
      },
      "source": [
        "import tensorflow as tf\n",
        "import numpy as np\n",
        "from tensorflow import keras"
      ],
      "execution_count": 1,
      "outputs": []
    },
    {
      "cell_type": "markdown",
      "metadata": {
        "id": "ljAI_xwMc3V2"
      },
      "source": [
        ""
      ]
    }
  ]
}