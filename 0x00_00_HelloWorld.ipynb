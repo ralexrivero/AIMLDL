{
  "nbformat": 4,
  "nbformat_minor": 0,
  "metadata": {
    "colab": {
      "name": "0x00-00-HelloWorld.ipynb",
      "provenance": [],
      "collapsed_sections": [],
      "authorship_tag": "ABX9TyNdLX+3rGyN14XowWu2zvBP",
      "include_colab_link": true
    },
    "kernelspec": {
      "name": "python3",
      "display_name": "Python 3"
    },
    "language_info": {
      "name": "python"
    }
  },
  "cells": [
    {
      "cell_type": "markdown",
      "metadata": {
        "id": "view-in-github",
        "colab_type": "text"
      },
      "source": [
        "<a href=\"https://colab.research.google.com/github/ralexrivero/AIMLDL/blob/main/0x00_00_HelloWorld.ipynb\" target=\"_parent\"><img src=\"https://colab.research.google.com/assets/colab-badge.svg\" alt=\"Open In Colab\"/></a>"
      ]
    },
    {
      "cell_type": "markdown",
      "metadata": {
        "id": "9lHd2eO5c4o8"
      },
      "source": [
        "**Relationship between two numbers**\n",
        "\n",
        "The neural network will learns the relationship between two numbers, you already know the relationship:\n",
        "float hw_function(float x){\n",
        "    float y = (2 * x) - 1;\n",
        "    return y;\n",
        "}\n",
        "\n",
        "Train the neural network requieres data. Feeding Xs and Ys, it should be able to figure out the relationship between them."
      ]
    },
    {
      "cell_type": "markdown",
      "metadata": {
        "id": "ShpeRmNhdufv"
      },
      "source": [
        "**Imports**\n",
        "\n",
        "Import TensorFlow and call it for ease of use.\n",
        "Import the numpy library for represent data as lists easily and quickly.\n",
        "Finally import keras, the framwork for defining a neural networ as a set of Sequential layers."
      ]
    },
    {
      "cell_type": "code",
      "metadata": {
        "id": "LPQnAjMwceBu"
      },
      "source": [
        "import tensorflow as tf\n",
        "import numpy as np\n",
        "from tensorflow import keras"
      ],
      "execution_count": null,
      "outputs": []
    },
    {
      "cell_type": "markdown",
      "metadata": {
        "id": "ljAI_xwMc3V2"
      },
      "source": [
        "**Define and compile the neural network**\n",
        "\n",
        "Create a simply neural network with only one layer with one neuron."
      ]
    },
    {
      "cell_type": "markdown",
      "metadata": {
        "id": "WaIaPw7lhF5V"
      },
      "source": [
        "**Loss and optimizer**\n",
        "\n",
        "Once compiled the neural network, need to specify two functions, a **loss** and a **optimizer**.\n",
        "\n",
        "The relationship between numbers is y = 2x -1\n",
        "\n",
        "When trying to learn that the computer make a guess like y = 10x -10.\n",
        "***Loss*** measures the guessed answers against the known correct answers and see how well or bad it did.\n",
        "\n",
        "The **optimizer** function makes another guess, trying to minimize the **loss**.\n",
        "\n",
        "This will be repeated the number of **epochs**\n",
        "\n",
        "The **loss** is definded to MEAN SQUARED ERROR.\n",
        "The **optimizer** is defined to STOCHASTIC GRADIENT DESCENT\n"
      ]
    },
    {
      "cell_type": "code",
      "metadata": {
        "id": "4IwTN1UBgDqs"
      },
      "source": [
        "model = tf.keras.Sequential([keras.layers.Dense(units=1, input_shape=[1])])\n",
        "model.compile(optimizer='sgd', loss='mean_squared_error')"
      ],
      "execution_count": null,
      "outputs": []
    },
    {
      "cell_type": "markdown",
      "metadata": {
        "id": "ceamZKSbjwni"
      },
      "source": [
        "**Provide the data**\n",
        "\n",
        "Numpy (python library), provides array type data structures.\n",
        "\n",
        "\n",
        "```\n",
        "np.array[]\n",
        "```\n",
        "\n"
      ]
    },
    {
      "cell_type": "code",
      "metadata": {
        "id": "EMeN_Aa3kUf_"
      },
      "source": [
        "xs = np.array([-1.0, 0.0, 1.0, 2.0, 3.0, 4.0], dtype=float)\n",
        "ys = np.array([-3.0, -1.0, 1.0, 3.0, 5.0, 7.0], dtype=float)"
      ],
      "execution_count": null,
      "outputs": []
    },
    {
      "cell_type": "markdown",
      "metadata": {
        "id": "vaaDvr6Sknp3"
      },
      "source": [
        "**Training the neural network**\n",
        "\n",
        "the model.fit trains the neural network to learn the relationship betwenn xs and ys.\n",
        "\n",
        "Then run the loop between loss and optimizer the number of epochs specified."
      ]
    },
    {
      "cell_type": "code",
      "metadata": {
        "id": "MFz8FXjWlIKN"
      },
      "source": [
        "model.fit(xs, ys, epochs=500)"
      ],
      "execution_count": null,
      "outputs": []
    },
    {
      "cell_type": "markdown",
      "metadata": {
        "id": "_18o-3yrlW1K"
      },
      "source": [
        "The model was trained and with the **model.predict** method make a guess."
      ]
    },
    {
      "cell_type": "code",
      "metadata": {
        "colab": {
          "base_uri": "https://localhost:8080/"
        },
        "id": "sA87ATcdlqDv",
        "outputId": "681533da-7141-45bb-af93-6cd84cd64a04"
      },
      "source": [
        "print(model.predict([10.0]))"
      ],
      "execution_count": null,
      "outputs": [
        {
          "output_type": "stream",
          "text": [
            "[[18.976583]]\n"
          ],
          "name": "stdout"
        }
      ]
    },
    {
      "cell_type": "markdown",
      "metadata": {
        "id": "zOgYrwEAlxA8"
      },
      "source": [
        "Here is the high probability that the relationship will be closer to 19."
      ]
    }
  ]
}