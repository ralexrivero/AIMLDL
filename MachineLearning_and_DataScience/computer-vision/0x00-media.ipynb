{
 "cells": [
  {
   "cell_type": "code",
   "execution_count": 5,
   "id": "248d8c63",
   "metadata": {},
   "outputs": [],
   "source": [
    "import cv2\n",
    "import numpy as np"
   ]
  },
  {
   "cell_type": "code",
   "execution_count": 8,
   "id": "f0f83722",
   "metadata": {},
   "outputs": [],
   "source": [
    "img = cv2.imread(\"./img/001.jpeg\", 0)"
   ]
  },
  {
   "cell_type": "code",
   "execution_count": null,
   "id": "b2ebeb4f",
   "metadata": {},
   "outputs": [],
   "source": []
  }
 ],
 "metadata": {
  "kernelspec": {
   "display_name": "Python 3 (ipykernel)",
   "language": "python",
   "name": "python3"
  },
  "language_info": {
   "codemirror_mode": {
    "name": "ipython",
    "version": 3
   },
   "file_extension": ".py",
   "mimetype": "text/x-python",
   "name": "python",
   "nbconvert_exporter": "python",
   "pygments_lexer": "ipython3",
   "version": "3.9.13"
  }
 },
 "nbformat": 4,
 "nbformat_minor": 5
}
